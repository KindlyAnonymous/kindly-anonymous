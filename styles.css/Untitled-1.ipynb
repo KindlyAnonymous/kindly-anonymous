{
 "cells": [
  {
   "cell_type": "code",
   "execution_count": null,
   "metadata": {
    "vscode": {
     "languageId": "plaintext"
    }
   },
   "outputs": [],
   "source": [
    "body {\n",
    "  font-family: Arial, sans-serif;\n",
    "  margin: 0;\n",
    "  padding: 0;\n",
    "  line-height: 1.6;\n",
    "}\n",
    "\n",
    "header {\n",
    "  background: #4caf50;\n",
    "  color: white;\n",
    "  text-align: center;\n",
    "  padding: 2em 0;\n",
    "}\n",
    "\n",
    "header .btn {\n",
    "  display: inline-block;\n",
    "  margin: 1em 0.5em;\n",
    "  padding: 0.5em 1em;\n",
    "  color: #4caf50;\n",
    "  background: white;\n",
    "  text-decoration: none;\n",
    "  border-radius: 5px;\n",
    "  font-weight: bold;\n",
    "}\n",
    "\n",
    "header .btn:hover {\n",
    "  background: #f4f4f4;\n",
    "}\n",
    "\n",
    ".info {\n",
    "  padding: 2em;\n",
    "  background: #f9f9f9;\n",
    "}\n",
    "\n",
    ".info h2 {\n",
    "  text-align: center;\n",
    "  color: #333;\n",
    "}\n",
    "\n",
    "footer {\n",
    "  text-align: center;\n",
    "  background: #333;\n",
    "  color: white;\n",
    "  padding: 1em 0;\n",
    "  margin-top: 2em;\n",
    "}\n"
   ]
  }
 ],
 "metadata": {
  "language_info": {
   "name": "python"
  }
 },
 "nbformat": 4,
 "nbformat_minor": 2
}
