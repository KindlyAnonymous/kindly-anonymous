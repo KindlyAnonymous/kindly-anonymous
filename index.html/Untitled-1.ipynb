{
 "cells": [
  {
   "cell_type": "code",
   "execution_count": null,
   "metadata": {},
   "outputs": [],
   "source": [
    "<!DOCTYPE html>\n",
    "<html lang=\"en\">\n",
    "<head>\n",
    "  <meta charset=\"UTF-8\">\n",
    "  <meta name=\"viewport\" content=\"width=device-width, initial-scale=1.0\">\n",
    "  <title>Kindly Anonymous</title>\n",
    "  <link rel=\"stylesheet\" href=\"styles.css\">\n",
    "</head>\n",
    "<body>\n",
    "  <header>\n",
    "    <div class=\"container\">\n",
    "      <h1>Kindly Anonymous</h1>\n",
    "      <p>Anonymous Feedback, Delivered Thoughtfully</p>\n",
    "      <a href=\"#how-it-works\" class=\"btn\">Learn More</a>\n",
    "      <a href=\"#send-feedback\" class=\"btn\">Send Feedback</a>\n",
    "    </div>\n",
    "  </header>\n",
    "\n",
    "  <section id=\"how-it-works\" class=\"info\">\n",
    "    <h2>How It Works</h2>\n",
    "    <ol>\n",
    "      <li><strong>Step 1:</strong> Choose a category.</li>\n",
    "      <li><strong>Step 2:</strong> Write your feedback or select a template.</li>\n",
    "      <li><strong>Step 3:</strong> We deliver it anonymously with care.</li>\n",
    "    </ol>\n",
    "  </section>\n",
    "\n",
    "  <footer>\n",
    "    <p>&copy; 2024 Kindly Anonymous. All rights reserved.</p>\n",
    "  </footer>\n",
    "</body>\n",
    "</html>\n"
   ]
  }
 ],
 "metadata": {
  "language_info": {
   "name": "python"
  }
 },
 "nbformat": 4,
 "nbformat_minor": 2
}
